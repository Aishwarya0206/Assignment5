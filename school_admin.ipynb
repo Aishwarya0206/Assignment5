{
 "cells": [
  {
   "cell_type": "code",
   "execution_count": 22,
   "metadata": {},
   "outputs": [
    {
     "name": "stdout",
     "output_type": "stream",
     "text": [
      "Enter student info for student #1 in the format of (Name Age Contact_no. Email_id):Sri 14 232365 abc@xyz.com\n",
      "The entered info is -\n",
      "Name: Sri\n",
      "Age:14\n",
      "Contact no.:232365\n",
      "Email id:abc@xyz.com\n",
      "Is the entered info correct? (y/n): y\n",
      "Do you wish to continue with another student info (y/n): y\n",
      "Enter student info for student #2 in the format of (Name Age Contact_no. Email_id):Priya 15 223434 xyz@abc.com\n",
      "The entered info is -\n",
      "Name: Priya\n",
      "Age:15\n",
      "Contact no.:223434\n",
      "Email id:xyz@abc.com\n",
      "Is the entered info correct? (y/n): y\n",
      "Do you wish to continue with another student info (y/n): n\n"
     ]
    }
   ],
   "source": [
    "import csv\n",
    "\n",
    "def write_into_csv(info_list):\n",
    "    with open('student_info.csv','a',newline='') as csv_file:\n",
    "        writer = csv.writer(csv_file)\n",
    "        if(csv_file.tell()==0):\n",
    "            writer.writerow(['Name','Age','Contact no.','E-mail ID'])\n",
    "        writer.writerow(info_list)\n",
    "\n",
    "if __name__ == '__main__':\n",
    "    condition = True\n",
    "    student_num = 1\n",
    "    while(condition):\n",
    "        student_info = input('Enter student info for student #{} in the format of (Name Age Contact_no. Email_id):'\n",
    "                             .format(student_num))\n",
    "        student_info_list = student_info.split(' ')\n",
    "        if(student_info_list[0].isalpha()==True and student_info_list[1].isnumeric()==True and student_info_list[2].isnumeric()==True):\n",
    "            print('The entered info is -\\nName: {}\\nAge:{}\\nContact no.:{}\\nEmail id:{}'\n",
    "                  .format(student_info_list[0],student_info_list[1],student_info_list[2],student_info_list[3]))\n",
    "            choice = input('Is the entered info correct? (y/n): ')\n",
    "            if(choice=='y'):\n",
    "                write_into_csv(student_info_list)\n",
    "                condition_check = input(\"Do you wish to continue with another student info (y/n): \")\n",
    "                if(condition_check==\"y\"):\n",
    "                    condition=True\n",
    "                    student_num+=1\n",
    "                elif(condition_check==\"n\"):\n",
    "                    condition=False\n",
    "            elif(choice=='n'):\n",
    "                print(\"Please re-enter the values!\")\n",
    "        else:\n",
    "            print(\"ERROR: Please check your input! \\n********************INPUT VALIDATION FAILED!!!********************\")"
   ]
  },
  {
   "cell_type": "code",
   "execution_count": null,
   "metadata": {},
   "outputs": [],
   "source": []
  }
 ],
 "metadata": {
  "kernelspec": {
   "display_name": "Python 3",
   "language": "python",
   "name": "python3"
  },
  "language_info": {
   "codemirror_mode": {
    "name": "ipython",
    "version": 3
   },
   "file_extension": ".py",
   "mimetype": "text/x-python",
   "name": "python",
   "nbconvert_exporter": "python",
   "pygments_lexer": "ipython3",
   "version": "3.7.6"
  }
 },
 "nbformat": 4,
 "nbformat_minor": 4
}
